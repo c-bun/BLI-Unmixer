{
 "cells": [
  {
   "cell_type": "markdown",
   "metadata": {},
   "source": [
    "The purpose of this class is to contain the code for an individual unmixing run. Images and parameters will be specified here and results will be displayed/saved.\n",
    "\n",
    "Most of the stuff here was hashed out in the reproduce_gammon_alg.ipynb file."
   ]
  },
  {
   "cell_type": "code",
   "execution_count": 88,
   "metadata": {},
   "outputs": [
    {
     "name": "stdout",
     "output_type": "stream",
     "text": [
      "Overwriting BLUnmixer.py\n"
     ]
    }
   ],
   "source": [
    "%%writefile BLUnmixer.py\n",
    "\n",
    "import numpy as np\n",
    "import matplotlib.pyplot as plt\n",
    "import pandas as pd\n",
    "from scipy.ndimage.filters import median_filter\n",
    "from sklearn.linear_model import LinearRegression\n",
    "from matplotlib.widgets import EllipseSelector, Button\n",
    "\n",
    "class BLUnmixer:\n",
    "    def __init__(self, np_imstack=None):\n",
    "        self.np_imstack = np_imstack\n",
    "        self.rois = []\n",
    "        self.K = None\n",
    "\n",
    "    def get_ROIs(self):\n",
    "        \"\"\"\n",
    "        This actually has to be run separately to work. Threaded implementation would\n",
    "        be the solution to this in the future.\n",
    "        \"\"\"\n",
    "        for image in self.np_imstack:\n",
    "            self.rois.append(ROISelector(image))\n",
    "    \n",
    "#    def find_K(self):\n",
    "        \n",
    "\n",
    "from matplotlib.widgets import EllipseSelector, RectangleSelector\n",
    "import numpy as np\n",
    "import matplotlib.pyplot as plt\n",
    "\n",
    "class ROISelector:\n",
    "    def __init__(self, image):\n",
    "        self.image = image\n",
    "        self.coords = None\n",
    "        self.isDone = False\n",
    "        fig, ax = plt.subplots()\n",
    "        self.widget = RectangleSelector(ax, self._onselect, drawtype='box',\n",
    "                                             interactive=True,useblit=True)\n",
    "        axDone = plt.axes([0.81, 0.05, 0.1, 0.075])\n",
    "        self.doneButton = Button(axDone, 'Done')\n",
    "        self.doneButton.on_clicked(self.done)\n",
    "        ax.imshow(self.image)\n",
    "        plt.connect('key_press_event', self.widget)\n",
    "        plt.show()\n",
    "        \n",
    "    def _onselect(self, pt1, pt2):\n",
    "        #print(self.widget.geometry) # this will actually give the coords of each\n",
    "        # point around the ellipse\n",
    "        self.coords = np.array([[pt1.xdata, pt1.ydata],[pt2.xdata, pt2.ydata]])\n",
    "        #print(self.coords)\n",
    "    \n",
    "    def done(self, event):\n",
    "        self.isDone = True\n",
    "        plt.close()\n",
    "        #print('Done!')\n",
    "        \n",
    "    def get_coords(self):\n",
    "        return self.coords"
   ]
  },
  {
   "cell_type": "code",
   "execution_count": 87,
   "metadata": {},
   "outputs": [
    {
     "name": "stdout",
     "output_type": "stream",
     "text": [
      "Using matplotlib backend: MacOSX\n"
     ]
    }
   ],
   "source": [
    "import matplotlib.pyplot as plt\n",
    "import numpy as np\n",
    "%matplotlib\n",
    "%run BLUnmixer.py"
   ]
  },
  {
   "cell_type": "code",
   "execution_count": 83,
   "metadata": {},
   "outputs": [],
   "source": [
    "# test out some code for getting the rois:\n",
    "bromo = plt.imread('5386_4Br.TIF')\n",
    "dluc = plt.imread('5386_dluc.TIF')"
   ]
  },
  {
   "cell_type": "code",
   "execution_count": 84,
   "metadata": {},
   "outputs": [],
   "source": [
    "test = BLUnmixer(np_imstack=np.array([bromo,dluc]))\n",
    "test.get_ROIs()"
   ]
  },
  {
   "cell_type": "code",
   "execution_count": 99,
   "metadata": {},
   "outputs": [],
   "source": [
    "firstROI = test.rois[0].coords\n",
    "secondROI = test.rois[1].coords\n",
    "\n",
    "firstROI = np.round(firstROI).astype(int)"
   ]
  },
  {
   "cell_type": "code",
   "execution_count": 136,
   "metadata": {},
   "outputs": [
    {
     "data": {
      "text/plain": [
       "array([[1362, 1366],\n",
       "       [1461, 1373]], dtype=uint16)"
      ]
     },
     "execution_count": 136,
     "metadata": {},
     "output_type": "execute_result"
    }
   ],
   "source": [
    "#plt.imshow(test.np_imstack[0,firstROI])\n",
    "test.np_imstack[0][np.ix_(*firstROI.tolist())]"
   ]
  },
  {
   "cell_type": "code",
   "execution_count": 121,
   "metadata": {},
   "outputs": [
    {
     "data": {
      "text/plain": [
       "array([[ 35,  78],\n",
       "       [ 65, 105]])"
      ]
     },
     "execution_count": 121,
     "metadata": {},
     "output_type": "execute_result"
    }
   ],
   "source": [
    "firstROI"
   ]
  },
  {
   "cell_type": "code",
   "execution_count": 131,
   "metadata": {},
   "outputs": [
    {
     "ename": "SyntaxError",
     "evalue": "can't use starred expression here (<ipython-input-131-708b9cad7af7>, line 1)",
     "output_type": "error",
     "traceback": [
      "\u001b[0;36m  File \u001b[0;32m\"<ipython-input-131-708b9cad7af7>\"\u001b[0;36m, line \u001b[0;32m1\u001b[0m\n\u001b[0;31m    *firstROI.tolist()\u001b[0m\n\u001b[0m                      ^\u001b[0m\n\u001b[0;31mSyntaxError\u001b[0m\u001b[0;31m:\u001b[0m can't use starred expression here\n"
     ]
    }
   ],
   "source": [
    "*firstROI.tolist()"
   ]
  },
  {
   "cell_type": "code",
   "execution_count": null,
   "metadata": {},
   "outputs": [],
   "source": []
  }
 ],
 "metadata": {
  "kernelspec": {
   "display_name": "Python [conda env:anaconda]",
   "language": "python",
   "name": "conda-env-anaconda-py"
  },
  "language_info": {
   "codemirror_mode": {
    "name": "ipython",
    "version": 3
   },
   "file_extension": ".py",
   "mimetype": "text/x-python",
   "name": "python",
   "nbconvert_exporter": "python",
   "pygments_lexer": "ipython3",
   "version": "3.5.5"
  }
 },
 "nbformat": 4,
 "nbformat_minor": 2
}
